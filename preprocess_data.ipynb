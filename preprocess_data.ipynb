{
 "cells": [
  {
   "cell_type": "code",
   "execution_count": 58,
   "metadata": {},
   "outputs": [],
   "source": [
    "import pandas as pd\n",
    "from glob import glob\n",
    "\n",
    "files = [\n",
    "    \"Data/Innerwear.csv\",\n",
    "    \"Data/Jeans.csv\",\n",
    "    \"Data/Shirts.csv\",\n",
    "    \"Data/T-shirts and Polos.csv\"\n",
    "]\n",
    "\n",
    "dfs = []\n",
    "for file in files:\n",
    "    df = pd.read_csv(file)\n",
    "    df.columns = [c.strip().lower() for c in df.columns]\n",
    "    dfs.append(df)\n",
    "\n",
    "\n",
    "df = pd.concat(dfs, ignore_index=True)"
   ]
  },
  {
   "cell_type": "code",
   "execution_count": 59,
   "metadata": {},
   "outputs": [
    {
     "name": "stdout",
     "output_type": "stream",
     "text": [
      "76656\n"
     ]
    }
   ],
   "source": [
    "print(len(df))"
   ]
  },
  {
   "cell_type": "code",
   "execution_count": 60,
   "metadata": {},
   "outputs": [],
   "source": [
    "df = df.dropna(subset=[\"actual_price\"])"
   ]
  },
  {
   "cell_type": "code",
   "execution_count": 61,
   "metadata": {},
   "outputs": [],
   "source": [
    "EXCHANGE_RATE = 0.012  # ₹1 = $0.012\n",
    "\n",
    "def convert_price(price_str):\n",
    "    if pd.isna(price_str):\n",
    "        return None  \n",
    "    price_num = float(price_str.replace(\"₹\", \"\").replace(\",\", \"\").strip())\n",
    "    return round(price_num * EXCHANGE_RATE, 2)\n",
    "\n",
    "\n",
    "df[\"discount_price_usd\"] = df[\"discount_price\"].apply(convert_price)\n",
    "df[\"actual_price_usd\"]   = df[\"actual_price\"].apply(convert_price)\n",
    "\n",
    "df[\"discount_price_usd\"] = df[\"discount_price_usd\"].fillna(df[\"actual_price_usd\"])"
   ]
  },
  {
   "cell_type": "code",
   "execution_count": 62,
   "metadata": {},
   "outputs": [],
   "source": [
    "df = df.drop(columns=[\"main_category\", \"discount_price\", \"actual_price\"])\n",
    "df = df.rename(columns={\"sub_category\": \"category\"})"
   ]
  },
  {
   "cell_type": "code",
   "execution_count": 63,
   "metadata": {},
   "outputs": [
    {
     "data": {
      "text/html": [
       "<div>\n",
       "<style scoped>\n",
       "    .dataframe tbody tr th:only-of-type {\n",
       "        vertical-align: middle;\n",
       "    }\n",
       "\n",
       "    .dataframe tbody tr th {\n",
       "        vertical-align: top;\n",
       "    }\n",
       "\n",
       "    .dataframe thead th {\n",
       "        text-align: right;\n",
       "    }\n",
       "</style>\n",
       "<table border=\"1\" class=\"dataframe\">\n",
       "  <thead>\n",
       "    <tr style=\"text-align: right;\">\n",
       "      <th></th>\n",
       "      <th>name</th>\n",
       "      <th>category</th>\n",
       "      <th>image</th>\n",
       "      <th>link</th>\n",
       "      <th>ratings</th>\n",
       "      <th>no_of_ratings</th>\n",
       "      <th>discount_price_usd</th>\n",
       "      <th>actual_price_usd</th>\n",
       "    </tr>\n",
       "  </thead>\n",
       "  <tbody>\n",
       "    <tr>\n",
       "      <th>0</th>\n",
       "      <td>Jockey 8820 Men's Super Combed Cotton Round Ne...</td>\n",
       "      <td>Innerwear</td>\n",
       "      <td>https://m.media-amazon.com/images/W/IMAGERENDE...</td>\n",
       "      <td>https://www.amazon.in/Jockey-Mens-Cotton-89013...</td>\n",
       "      <td>4.2</td>\n",
       "      <td>4,240</td>\n",
       "      <td>6.60</td>\n",
       "      <td>7.88</td>\n",
       "    </tr>\n",
       "    <tr>\n",
       "      <th>1</th>\n",
       "      <td>Rupa Jon Men's Cotton Vest (Pack of 5)</td>\n",
       "      <td>Innerwear</td>\n",
       "      <td>https://m.media-amazon.com/images/W/IMAGERENDE...</td>\n",
       "      <td>https://www.amazon.in/Rupa-Jon-JN-VEST-RN_Whit...</td>\n",
       "      <td>4.1</td>\n",
       "      <td>14,514</td>\n",
       "      <td>4.06</td>\n",
       "      <td>4.80</td>\n",
       "    </tr>\n",
       "    <tr>\n",
       "      <th>2</th>\n",
       "      <td>Jockey Men's Cotton Brief(Colors &amp; Print May V...</td>\n",
       "      <td>Innerwear</td>\n",
       "      <td>https://m.media-amazon.com/images/W/IMAGERENDE...</td>\n",
       "      <td>https://www.amazon.in/Jockey-8037-0110-ASSTD-B...</td>\n",
       "      <td>4.2</td>\n",
       "      <td>25,655</td>\n",
       "      <td>2.39</td>\n",
       "      <td>2.39</td>\n",
       "    </tr>\n",
       "  </tbody>\n",
       "</table>\n",
       "</div>"
      ],
      "text/plain": [
       "                                                name   category  \\\n",
       "0  Jockey 8820 Men's Super Combed Cotton Round Ne...  Innerwear   \n",
       "1             Rupa Jon Men's Cotton Vest (Pack of 5)  Innerwear   \n",
       "2  Jockey Men's Cotton Brief(Colors & Print May V...  Innerwear   \n",
       "\n",
       "                                               image  \\\n",
       "0  https://m.media-amazon.com/images/W/IMAGERENDE...   \n",
       "1  https://m.media-amazon.com/images/W/IMAGERENDE...   \n",
       "2  https://m.media-amazon.com/images/W/IMAGERENDE...   \n",
       "\n",
       "                                                link ratings no_of_ratings  \\\n",
       "0  https://www.amazon.in/Jockey-Mens-Cotton-89013...     4.2         4,240   \n",
       "1  https://www.amazon.in/Rupa-Jon-JN-VEST-RN_Whit...     4.1        14,514   \n",
       "2  https://www.amazon.in/Jockey-8037-0110-ASSTD-B...     4.2        25,655   \n",
       "\n",
       "   discount_price_usd  actual_price_usd  \n",
       "0                6.60              7.88  \n",
       "1                4.06              4.80  \n",
       "2                2.39              2.39  "
      ]
     },
     "execution_count": 63,
     "metadata": {},
     "output_type": "execute_result"
    }
   ],
   "source": [
    "df.head(3)"
   ]
  },
  {
   "cell_type": "code",
   "execution_count": 64,
   "metadata": {},
   "outputs": [],
   "source": [
    "df.to_csv(\"Data/mens_clothing.csv\", index=False, encoding=\"utf-8-sig\")"
   ]
  }
 ],
 "metadata": {
  "kernelspec": {
   "display_name": "Python 3",
   "language": "python",
   "name": "python3"
  },
  "language_info": {
   "codemirror_mode": {
    "name": "ipython",
    "version": 3
   },
   "file_extension": ".py",
   "mimetype": "text/x-python",
   "name": "python",
   "nbconvert_exporter": "python",
   "pygments_lexer": "ipython3",
   "version": "3.11.9"
  }
 },
 "nbformat": 4,
 "nbformat_minor": 2
}
