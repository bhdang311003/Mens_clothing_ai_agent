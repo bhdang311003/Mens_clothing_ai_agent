{
 "cells": [
  {
   "cell_type": "code",
   "execution_count": 1,
   "metadata": {},
   "outputs": [],
   "source": [
    "#sentence-transformers\n",
    "#tf-keras "
   ]
  },
  {
   "cell_type": "code",
   "execution_count": 2,
   "metadata": {},
   "outputs": [
    {
     "name": "stderr",
     "output_type": "stream",
     "text": [
      "C:\\Users\\Administrator\\AppData\\Local\\Temp\\ipykernel_13048\\2733535531.py:3: DtypeWarning: Columns (4) have mixed types. Specify dtype option on import or set low_memory=False.\n",
      "  df = pd.read_csv(\"Data/mens_clothing.csv\")\n"
     ]
    },
    {
     "name": "stdout",
     "output_type": "stream",
     "text": [
      "{'name': \"Jockey 8820 Men's Super Combed Cotton Round Neck Sleeveless Vest with Extended Length for Easy Tuck (Pack of 3)\", 'category': 'Innerwear', 'image': 'https://m.media-amazon.com/images/W/IMAGERENDERING_521856-T2/images/I/81MfjxIbRsL._AC_UL320_.jpg', 'link': 'https://www.amazon.in/Jockey-Mens-Cotton-8901326034347_8820-0310-WHITE-White/dp/B00W04OTYM/ref=sr_1_5?qid=1679142473&s=apparel&sr=1-5', 'ratings': 4.2, 'no_of_ratings': 4240, 'discount_price_usd': 6.6, 'actual_price_usd': 7.88}\n"
     ]
    }
   ],
   "source": [
    "import pandas as pd\n",
    "from langchain_community.vectorstores import FAISS\n",
    "from langchain.embeddings import HuggingFaceEmbeddings\n",
    "\n",
    "df = pd.read_csv(\"Data/mens_clothing.csv\")\n",
    "\n",
    "df[\"ratings\"] = pd.to_numeric(df[\"ratings\"], errors=\"coerce\")\n",
    "df[\"no_of_ratings\"] = df[\"no_of_ratings\"].str.replace(\",\", \"\", regex=False)\n",
    "df[\"no_of_ratings\"] = pd.to_numeric(df[\"no_of_ratings\"], errors=\"coerce\").astype(\"Int64\")\n",
    "\n",
    "products = df.to_dict(orient=\"records\")"
   ]
  },
  {
   "cell_type": "code",
   "execution_count": 3,
   "metadata": {},
   "outputs": [
    {
     "name": "stdout",
     "output_type": "stream",
     "text": [
      "Product: Jockey 8820 Men's Super Combed Cotton Round Neck Sleeveless Vest with Extended Length for Easy Tuck (Pack of 3). Category: Innerwear. Price: $6.6 (original $7.88). Rating: 4.2 stars from 4240 reviews.\n"
     ]
    }
   ],
   "source": [
    "def build_text(product):\n",
    "    return (\n",
    "        f\"Product: {product['name']}. \"\n",
    "        f\"Category: {product['category']}. \"\n",
    "        f\"Price: ${product['discount_price_usd']} (original ${product['actual_price_usd']}). \"\n",
    "        f\"Rating: {product['ratings']} stars from {product['no_of_ratings']} reviews.\"\n",
    "    )"
   ]
  },
  {
   "cell_type": "code",
   "execution_count": 4,
   "metadata": {},
   "outputs": [],
   "source": [
    "product_texts = [build_text(prod) for prod in products]"
   ]
  },
  {
   "cell_type": "code",
   "execution_count": 6,
   "metadata": {},
   "outputs": [
    {
     "name": "stderr",
     "output_type": "stream",
     "text": [
      "C:\\Users\\Administrator\\AppData\\Local\\Temp\\ipykernel_13048\\1078859149.py:4: LangChainDeprecationWarning: The class `HuggingFaceEmbeddings` was deprecated in LangChain 0.2.2 and will be removed in 1.0. An updated version of the class exists in the :class:`~langchain-huggingface package and should be used instead. To use it run `pip install -U :class:`~langchain-huggingface` and import as `from :class:`~langchain_huggingface import HuggingFaceEmbeddings``.\n",
      "  embeddings = HuggingFaceEmbeddings(model_name=\"sentence-transformers/all-MiniLM-L6-v2\") #all-mpnet-base-v2\n",
      "c:\\Users\\Administrator\\AppData\\Local\\Programs\\Python\\Python311\\Lib\\site-packages\\tqdm\\auto.py:21: TqdmWarning: IProgress not found. Please update jupyter and ipywidgets. See https://ipywidgets.readthedocs.io/en/stable/user_install.html\n",
      "  from .autonotebook import tqdm as notebook_tqdm\n"
     ]
    },
    {
     "name": "stdout",
     "output_type": "stream",
     "text": [
      "WARNING:tensorflow:From c:\\Users\\Administrator\\AppData\\Local\\Programs\\Python\\Python311\\Lib\\site-packages\\tf_keras\\src\\losses.py:2976: The name tf.losses.sparse_softmax_cross_entropy is deprecated. Please use tf.compat.v1.losses.sparse_softmax_cross_entropy instead.\n",
      "\n"
     ]
    }
   ],
   "source": [
    "embeddings = HuggingFaceEmbeddings(model_name=\"sentence-transformers/all-MiniLM-L6-v2\") #all-mpnet-base-v2"
   ]
  },
  {
   "cell_type": "code",
   "execution_count": 7,
   "metadata": {},
   "outputs": [],
   "source": [
    "# vectorstore = FAISS.from_texts(product_texts, embeddings)\n",
    "# vectorstore.save_local(\"faiss_product_index\")"
   ]
  },
  {
   "cell_type": "code",
   "execution_count": 8,
   "metadata": {},
   "outputs": [],
   "source": [
    "vectorstore = FAISS.load_local(\n",
    "    \"faiss_product_index\",\n",
    "    embeddings,\n",
    "    allow_dangerous_deserialization=True\n",
    ")"
   ]
  },
  {
   "cell_type": "code",
   "execution_count": 9,
   "metadata": {},
   "outputs": [
    {
     "data": {
      "text/plain": [
       "73778"
      ]
     },
     "execution_count": 9,
     "metadata": {},
     "output_type": "execute_result"
    }
   ],
   "source": [
    "len(vectorstore.docstore._dict)"
   ]
  },
  {
   "cell_type": "code",
   "execution_count": 38,
   "metadata": {},
   "outputs": [],
   "source": [
    "from langchain.chat_models import ChatOpenAI\n",
    "from langchain.agents import initialize_agent, AgentType\n",
    "from langchain.tools import tool\n",
    "import requests\n",
    "import pandas as pd\n",
    "import os\n",
    "\n",
    "os.environ[\"OPENAI_API_KEY\"] = \"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\"\n",
    "os.environ[\"OPENAI_API_BASE\"] = \"https://openrouter.ai/api/v1\"\n",
    "\n",
    "llm = ChatOpenAI(\n",
    "    model=\"openai/gpt-4.1-mini\", \n",
    "    temperature=0\n",
    ")"
   ]
  },
  {
   "cell_type": "code",
   "execution_count": 15,
   "metadata": {},
   "outputs": [],
   "source": [
    "retriever = vectorstore.as_retriever(search_kwargs={\"k\": 10})"
   ]
  },
  {
   "cell_type": "code",
   "execution_count": 84,
   "metadata": {},
   "outputs": [],
   "source": [
    "from langchain.chains import RetrievalQA\n",
    "\n",
    "qa_chain = RetrievalQA.from_chain_type(\n",
    "    llm=llm,\n",
    "    retriever=retriever,\n",
    "    return_source_documents=True  \n",
    ")\n",
    "\n",
    "from langchain_experimental.agents.agent_toolkits import create_pandas_dataframe_agent\n",
    "\n",
    "agent = create_pandas_dataframe_agent(\n",
    "    llm,\n",
    "    df,\n",
    "    verbose=False,\n",
    "    allow_dangerous_code=True\n",
    ")\n"
   ]
  },
  {
   "cell_type": "code",
   "execution_count": 96,
   "metadata": {},
   "outputs": [],
   "source": [
    "def classify_query(query):\n",
    "    prompt = f\"\"\"\n",
    "    You are a classifier for a shopping assistant.\n",
    "    Classify the user question into one of two categories:\n",
    "    - \"RAG\": If the question is about **searching, reading, or retrieving textual information** related to products or Q&A.\n",
    "    - \"AGENT\": If the question requires **filtering, calculation, aggregation, comparison, or price-based queries** about products, such as cheapest, most expensive, average price, counting items, filtering by size/color/brand, or comparing multiple products.\n",
    "    Only return one of these two words: RAG or AGENT.\n",
    "    Question: {query}\n",
    "    \"\"\"\n",
    "    result = llm.invoke(prompt)\n",
    "    return result.content.strip()\n",
    "    \n",
    "def answer_query(query):\n",
    "    intent = classify_query(query)\n",
    "\n",
    "    if intent == \"AGENT\":\n",
    "        print(\"[Agent Mode]\")\n",
    "        return agent.run(query)\n",
    "    else:\n",
    "        print(\"[RAG Mode]\")\n",
    "        # print(\"\\n----------- Source documents -----------\")\n",
    "        # for doc in result[\"source_documents\"]:\n",
    "        #     print(\"-\", doc.page_content)\n",
    "        return qa_chain({\"query\": query})[\"result\"]"
   ]
  },
  {
   "cell_type": "code",
   "execution_count": 99,
   "metadata": {},
   "outputs": [],
   "source": [
    "query = \"Give me some products of NEVA\""
   ]
  },
  {
   "cell_type": "code",
   "execution_count": 100,
   "metadata": {},
   "outputs": [
    {
     "name": "stdout",
     "output_type": "stream",
     "text": [
      "[RAG Mode]\n",
      "Here are some NEVA products:\n",
      "\n",
      "1. NEVA Men Lower Thermal Esancia - Milange Grey, Price: $6.9\n",
      "2. NEVA Men Pure Cotton Solid Trunk Brief, Price: $2.58\n",
      "3. NEVA Men Lower Thermal Esancia - Off White, Price: $6.9\n",
      "4. Neva Men's Off White Cotton Thermal, Price: $6.58, Rating: 4.3 stars\n",
      "5. Neva Upper Thermal for Men (OMS1-Grey), Price: $6.0, Rating: 4.6 stars\n",
      "6. NEVA Gents Thermal Set with Fur Inside for Men (Glaccia) - Anthra, Price: $22.66, Rating: 5.0 stars\n",
      "7. NEVA Men Full Sleeve Upper Thermal Esancia - Anthra, Price: $6.68\n",
      "8. NEVA Premium LADIESTHERMAL Set Upper and Lower Antra (Set), Price: $11.98\n",
      "9. Neva Upper Thermal for Men (OMS1-Grey, 110 cm), Price: $6.0, Rating: 5.0 stars\n",
      "10. NEVA Premium Inner Thermal Set of Upper and Lower with Free 1 Pair of Socks, Price: $7.19, Rating: 4.2 stars\n",
      "\n",
      "Let me know if you want details on any specific product!\n"
     ]
    }
   ],
   "source": [
    "print(answer_query(query))"
   ]
  }
 ],
 "metadata": {
  "kernelspec": {
   "display_name": "Python 3",
   "language": "python",
   "name": "python3"
  },
  "language_info": {
   "codemirror_mode": {
    "name": "ipython",
    "version": 3
   },
   "file_extension": ".py",
   "mimetype": "text/x-python",
   "name": "python",
   "nbconvert_exporter": "python",
   "pygments_lexer": "ipython3",
   "version": "3.11.9"
  }
 },
 "nbformat": 4,
 "nbformat_minor": 2
}
